{
 "cells": [
  {
   "cell_type": "code",
   "execution_count": 1,
   "metadata": {
    "collapsed": true
   },
   "outputs": [],
   "source": [
    "## implementation of logistic regression"
   ]
  },
  {
   "cell_type": "code",
   "execution_count": 2,
   "metadata": {
    "collapsed": true
   },
   "outputs": [],
   "source": [
    "from sklearn.base import BaseEstimator\n",
    "import numpy as np"
   ]
  },
  {
   "cell_type": "code",
   "execution_count": 188,
   "metadata": {
    "collapsed": true
   },
   "outputs": [],
   "source": [
    "# dummy data\n",
    "np.random.seed(12)\n",
    "num_observations = 50000\n",
    "\n",
    "x1 = np.random.multivariate_normal([0, 0], [[1, .75],[.75, 1]], num_observations)\n",
    "x2 = np.random.multivariate_normal([1, 4], [[1, .75],[.75, 1]], num_observations)\n",
    "\n",
    "simulated_separableish_features = np.vstack((x1, x2)).astype(np.float32)\n",
    "simulated_labels = np.hstack((np.zeros(num_observations),\n",
    "                              np.ones(num_observations)))"
   ]
  },
  {
   "cell_type": "code",
   "execution_count": 230,
   "metadata": {
    "collapsed": false
   },
   "outputs": [],
   "source": [
    "class LogisticRegression(BaseEstimator):\n",
    "    def __init__(self,iterations,batchSize,learningRate):\n",
    "        self.beta = None\n",
    "        self.batchSize = batchSize\n",
    "        self.learningRate = learningRate\n",
    "        self.iterations = iterations\n",
    "        return\n",
    "        \n",
    "    def predict(self, X):\n",
    "        X = np.concatenate((X,np.ones((X.shape[0],1))),axis=1)\n",
    "        return 1/(1+np.exp(-np.dot(X,self.beta)))\n",
    "    \n",
    "    def logLikelihood(self, beta, Xdata, ydata):\n",
    "        Xbeta = np.dot(Xdata,beta)\n",
    "        logLikelihood = np.sum(ydata*Xbeta - np.log(1+np.exp(Xbeta)))\n",
    "        return logLikelihood\n",
    "    \n",
    "    def computeBatchGrad(self, Xbatch,ybatch,prediction):\n",
    "        Xbatch = np.concatenate((Xbatch,np.ones((Xbatch.shape[0],1))),axis=1)\n",
    "        return np.dot(Xbatch.T,ybatch-prediction)\n",
    "        \n",
    "    def fit(self, X,y):\n",
    "        epoch = X.shape[0]/self.batchSize\n",
    "        self.beta = np.zeros(X.shape[1] + 1)\n",
    "        for i in xrange(self.iterations):\n",
    "            jstart = 0\n",
    "            for j in xrange(epoch):\n",
    "                Xbatch  = X[jstart:jstart+self.batchSize,:]\n",
    "                ybatch = y[jstart:jstart+self.batchSize]\n",
    "                jstart = jstart+self.batchSize\n",
    "                prediction = self.predict(Xbatch)\n",
    "                grad = self.computeBatchGrad(Xbatch,ybatch,prediction)\n",
    "                self.beta = self.beta + self.learningRate*grad\n",
    "            \n",
    "            grad = self.computeBatchGrad(X[jstart+self.batchSize:,:],y[jstart+self.batchSize:],\n",
    "                                    self.predict(X[jstart+self.batchSize:,:])) #to train for the remaining samples\n",
    "            self.beta = self.beta + self.learningRate*grad\n",
    "        return self\n",
    "        \n",
    "    def getWeights(self):\n",
    "        return self.beta\n",
    "        "
   ]
  },
  {
   "cell_type": "code",
   "execution_count": 231,
   "metadata": {
    "collapsed": false
   },
   "outputs": [],
   "source": [
    "cls = LogisticRegression(1000,2000,0.0001)"
   ]
  },
  {
   "cell_type": "code",
   "execution_count": 232,
   "metadata": {
    "collapsed": false
   },
   "outputs": [
    {
     "data": {
      "text/plain": [
       "(100000, 2)"
      ]
     },
     "execution_count": 232,
     "metadata": {},
     "output_type": "execute_result"
    }
   ],
   "source": [
    "simulated_separableish_features.shape"
   ]
  },
  {
   "cell_type": "code",
   "execution_count": 233,
   "metadata": {
    "collapsed": false
   },
   "outputs": [
    {
     "name": "stdout",
     "output_type": "stream",
     "text": [
      "CPU times: user 4.44 s, sys: 3.13 ms, total: 4.44 s\n",
      "Wall time: 4.44 s\n"
     ]
    },
    {
     "data": {
      "text/plain": [
       "LogisticRegression(batchSize=2000, iterations=1000, learningRate=0.0001)"
      ]
     },
     "execution_count": 233,
     "metadata": {},
     "output_type": "execute_result"
    }
   ],
   "source": [
    "%%time \n",
    "cls.fit(simulated_separableish_features,simulated_labels)"
   ]
  },
  {
   "cell_type": "code",
   "execution_count": 234,
   "metadata": {
    "collapsed": false
   },
   "outputs": [
    {
     "data": {
      "text/plain": [
       "{'batchSize': 2000, 'iterations': 1000, 'learningRate': 0.0001}"
      ]
     },
     "execution_count": 234,
     "metadata": {},
     "output_type": "execute_result"
    }
   ],
   "source": [
    "cls.get_params()"
   ]
  },
  {
   "cell_type": "code",
   "execution_count": null,
   "metadata": {
    "collapsed": true
   },
   "outputs": [],
   "source": [
    "pred =  cls.predict(simulated_separableish_features)\n",
    "pred = np.round(pred)"
   ]
  },
  {
   "cell_type": "markdown",
   "metadata": {},
   "source": [
    "### Comparison to Sklearn SGDClassifier"
   ]
  },
  {
   "cell_type": "code",
   "execution_count": 235,
   "metadata": {
    "collapsed": false
   },
   "outputs": [],
   "source": [
    "from sklearn.linear_model import SGDClassifier\n",
    "\n",
    "clfs = SGDClassifier(loss='log', penalty='l2', alpha=0.0001, l1_ratio=0.15, fit_intercept=True, n_iter=1000, \n",
    "                     shuffle=True, verbose=0, epsilon=0.1, n_jobs=1, random_state=None, learning_rate='optimal',\n",
    "                     eta0=0.0, power_t=0.5, class_weight=None, warm_start=False, average=False)\n"
   ]
  },
  {
   "cell_type": "code",
   "execution_count": 224,
   "metadata": {
    "collapsed": false
   },
   "outputs": [
    {
     "name": "stdout",
     "output_type": "stream",
     "text": [
      "[-10.58907999] [[-3.71846327  6.24280612]]\n",
      "CPU times: user 7.68 s, sys: 11 ms, total: 7.69 s\n",
      "Wall time: 7.7 s\n"
     ]
    }
   ],
   "source": [
    "%%time\n",
    "clfs.fit(simulated_separableish_features, simulated_labels)\n",
    "\n",
    "print clfs.intercept_, clfs.coef_"
   ]
  },
  {
   "cell_type": "code",
   "execution_count": 225,
   "metadata": {
    "collapsed": false
   },
   "outputs": [],
   "source": [
    "pred1= clfs.predict_proba(simulated_separableish_features)"
   ]
  },
  {
   "cell_type": "code",
   "execution_count": 229,
   "metadata": {
    "collapsed": false
   },
   "outputs": [
    {
     "name": "stdout",
     "output_type": "stream",
     "text": [
      "Accuracy from scratch: 0.99396\n",
      "Accuracy from sk-learn: 0.9939\n"
     ]
    }
   ],
   "source": [
    "print 'Accuracy from scratch: {0}'.format((pred == simulated_labels).sum().astype(float) / len(pred))\n",
    "print 'Accuracy from sk-learn: {0}'.format(clfs.score(simulated_separableish_features, simulated_labels))"
   ]
  },
  {
   "cell_type": "code",
   "execution_count": null,
   "metadata": {
    "collapsed": true
   },
   "outputs": [],
   "source": []
  }
 ],
 "metadata": {
  "kernelspec": {
   "display_name": "Python 2",
   "language": "python",
   "name": "python2"
  },
  "language_info": {
   "codemirror_mode": {
    "name": "ipython",
    "version": 2
   },
   "file_extension": ".py",
   "mimetype": "text/x-python",
   "name": "python",
   "nbconvert_exporter": "python",
   "pygments_lexer": "ipython2",
   "version": "2.7.13"
  }
 },
 "nbformat": 4,
 "nbformat_minor": 2
}
